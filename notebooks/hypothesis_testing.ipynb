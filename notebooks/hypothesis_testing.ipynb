{
 "cells": [
  {
   "cell_type": "code",
   "execution_count": 8,
   "id": "97623e72-1f95-41a2-a81d-5d625746dbc2",
   "metadata": {},
   "outputs": [],
   "source": [
    "#import libraries\n",
    "import pandas as pd\n",
    "import scipy.stats as stats\n",
    "import matplotlib.pyplot as plt\n",
    "import seaborn as sns"
   ]
  },
  {
   "cell_type": "code",
   "execution_count": 15,
   "id": "6bc6de66-5b01-4972-b8f0-6fac76d3de51",
   "metadata": {},
   "outputs": [
    {
     "data": {
      "text/html": [
       "<div>\n",
       "<style scoped>\n",
       "    .dataframe tbody tr th:only-of-type {\n",
       "        vertical-align: middle;\n",
       "    }\n",
       "\n",
       "    .dataframe tbody tr th {\n",
       "        vertical-align: top;\n",
       "    }\n",
       "\n",
       "    .dataframe thead th {\n",
       "        text-align: right;\n",
       "    }\n",
       "</style>\n",
       "<table border=\"1\" class=\"dataframe\">\n",
       "  <thead>\n",
       "    <tr style=\"text-align: right;\">\n",
       "      <th></th>\n",
       "      <th>UnderwrittenCoverID</th>\n",
       "      <th>PolicyID</th>\n",
       "      <th>TransactionMonth</th>\n",
       "      <th>IsVATRegistered</th>\n",
       "      <th>Citizenship</th>\n",
       "      <th>LegalType</th>\n",
       "      <th>Title</th>\n",
       "      <th>Language</th>\n",
       "      <th>Bank</th>\n",
       "      <th>AccountType</th>\n",
       "      <th>...</th>\n",
       "      <th>ExcessSelected</th>\n",
       "      <th>CoverCategory</th>\n",
       "      <th>CoverType</th>\n",
       "      <th>CoverGroup</th>\n",
       "      <th>Section</th>\n",
       "      <th>Product</th>\n",
       "      <th>StatutoryClass</th>\n",
       "      <th>StatutoryRiskType</th>\n",
       "      <th>TotalPremium</th>\n",
       "      <th>TotalClaims</th>\n",
       "    </tr>\n",
       "  </thead>\n",
       "  <tbody>\n",
       "    <tr>\n",
       "      <th>0</th>\n",
       "      <td>145249</td>\n",
       "      <td>12827</td>\n",
       "      <td>2015-03-01 00:00:00</td>\n",
       "      <td>True</td>\n",
       "      <td></td>\n",
       "      <td>Close Corporation</td>\n",
       "      <td>Mr</td>\n",
       "      <td>English</td>\n",
       "      <td>First National Bank</td>\n",
       "      <td>Current account</td>\n",
       "      <td>...</td>\n",
       "      <td>Mobility - Windscreen</td>\n",
       "      <td>Windscreen</td>\n",
       "      <td>Windscreen</td>\n",
       "      <td>Comprehensive - Taxi</td>\n",
       "      <td>Motor Comprehensive</td>\n",
       "      <td>Mobility Metered Taxis: Monthly</td>\n",
       "      <td>Commercial</td>\n",
       "      <td>IFRS Constant</td>\n",
       "      <td>21.929825</td>\n",
       "      <td>0.0</td>\n",
       "    </tr>\n",
       "    <tr>\n",
       "      <th>1</th>\n",
       "      <td>145249</td>\n",
       "      <td>12827</td>\n",
       "      <td>2015-05-01 00:00:00</td>\n",
       "      <td>True</td>\n",
       "      <td></td>\n",
       "      <td>Close Corporation</td>\n",
       "      <td>Mr</td>\n",
       "      <td>English</td>\n",
       "      <td>First National Bank</td>\n",
       "      <td>Current account</td>\n",
       "      <td>...</td>\n",
       "      <td>Mobility - Windscreen</td>\n",
       "      <td>Windscreen</td>\n",
       "      <td>Windscreen</td>\n",
       "      <td>Comprehensive - Taxi</td>\n",
       "      <td>Motor Comprehensive</td>\n",
       "      <td>Mobility Metered Taxis: Monthly</td>\n",
       "      <td>Commercial</td>\n",
       "      <td>IFRS Constant</td>\n",
       "      <td>21.929825</td>\n",
       "      <td>0.0</td>\n",
       "    </tr>\n",
       "    <tr>\n",
       "      <th>2</th>\n",
       "      <td>145249</td>\n",
       "      <td>12827</td>\n",
       "      <td>2015-07-01 00:00:00</td>\n",
       "      <td>True</td>\n",
       "      <td></td>\n",
       "      <td>Close Corporation</td>\n",
       "      <td>Mr</td>\n",
       "      <td>English</td>\n",
       "      <td>First National Bank</td>\n",
       "      <td>Current account</td>\n",
       "      <td>...</td>\n",
       "      <td>Mobility - Windscreen</td>\n",
       "      <td>Windscreen</td>\n",
       "      <td>Windscreen</td>\n",
       "      <td>Comprehensive - Taxi</td>\n",
       "      <td>Motor Comprehensive</td>\n",
       "      <td>Mobility Metered Taxis: Monthly</td>\n",
       "      <td>Commercial</td>\n",
       "      <td>IFRS Constant</td>\n",
       "      <td>0.000000</td>\n",
       "      <td>0.0</td>\n",
       "    </tr>\n",
       "    <tr>\n",
       "      <th>3</th>\n",
       "      <td>145255</td>\n",
       "      <td>12827</td>\n",
       "      <td>2015-05-01 00:00:00</td>\n",
       "      <td>True</td>\n",
       "      <td></td>\n",
       "      <td>Close Corporation</td>\n",
       "      <td>Mr</td>\n",
       "      <td>English</td>\n",
       "      <td>First National Bank</td>\n",
       "      <td>Current account</td>\n",
       "      <td>...</td>\n",
       "      <td>Mobility - Metered Taxis - R2000</td>\n",
       "      <td>Own damage</td>\n",
       "      <td>Own Damage</td>\n",
       "      <td>Comprehensive - Taxi</td>\n",
       "      <td>Motor Comprehensive</td>\n",
       "      <td>Mobility Metered Taxis: Monthly</td>\n",
       "      <td>Commercial</td>\n",
       "      <td>IFRS Constant</td>\n",
       "      <td>512.848070</td>\n",
       "      <td>0.0</td>\n",
       "    </tr>\n",
       "    <tr>\n",
       "      <th>4</th>\n",
       "      <td>145255</td>\n",
       "      <td>12827</td>\n",
       "      <td>2015-07-01 00:00:00</td>\n",
       "      <td>True</td>\n",
       "      <td></td>\n",
       "      <td>Close Corporation</td>\n",
       "      <td>Mr</td>\n",
       "      <td>English</td>\n",
       "      <td>First National Bank</td>\n",
       "      <td>Current account</td>\n",
       "      <td>...</td>\n",
       "      <td>Mobility - Metered Taxis - R2000</td>\n",
       "      <td>Own damage</td>\n",
       "      <td>Own Damage</td>\n",
       "      <td>Comprehensive - Taxi</td>\n",
       "      <td>Motor Comprehensive</td>\n",
       "      <td>Mobility Metered Taxis: Monthly</td>\n",
       "      <td>Commercial</td>\n",
       "      <td>IFRS Constant</td>\n",
       "      <td>0.000000</td>\n",
       "      <td>0.0</td>\n",
       "    </tr>\n",
       "  </tbody>\n",
       "</table>\n",
       "<p>5 rows × 52 columns</p>\n",
       "</div>"
      ],
      "text/plain": [
       "   UnderwrittenCoverID  PolicyID     TransactionMonth  IsVATRegistered  \\\n",
       "0               145249     12827  2015-03-01 00:00:00             True   \n",
       "1               145249     12827  2015-05-01 00:00:00             True   \n",
       "2               145249     12827  2015-07-01 00:00:00             True   \n",
       "3               145255     12827  2015-05-01 00:00:00             True   \n",
       "4               145255     12827  2015-07-01 00:00:00             True   \n",
       "\n",
       "  Citizenship          LegalType Title Language                 Bank  \\\n",
       "0              Close Corporation    Mr  English  First National Bank   \n",
       "1              Close Corporation    Mr  English  First National Bank   \n",
       "2              Close Corporation    Mr  English  First National Bank   \n",
       "3              Close Corporation    Mr  English  First National Bank   \n",
       "4              Close Corporation    Mr  English  First National Bank   \n",
       "\n",
       "       AccountType  ...                    ExcessSelected CoverCategory  \\\n",
       "0  Current account  ...             Mobility - Windscreen    Windscreen   \n",
       "1  Current account  ...             Mobility - Windscreen    Windscreen   \n",
       "2  Current account  ...             Mobility - Windscreen    Windscreen   \n",
       "3  Current account  ...  Mobility - Metered Taxis - R2000    Own damage   \n",
       "4  Current account  ...  Mobility - Metered Taxis - R2000    Own damage   \n",
       "\n",
       "    CoverType            CoverGroup              Section  \\\n",
       "0  Windscreen  Comprehensive - Taxi  Motor Comprehensive   \n",
       "1  Windscreen  Comprehensive - Taxi  Motor Comprehensive   \n",
       "2  Windscreen  Comprehensive - Taxi  Motor Comprehensive   \n",
       "3  Own Damage  Comprehensive - Taxi  Motor Comprehensive   \n",
       "4  Own Damage  Comprehensive - Taxi  Motor Comprehensive   \n",
       "\n",
       "                           Product StatutoryClass StatutoryRiskType  \\\n",
       "0  Mobility Metered Taxis: Monthly     Commercial     IFRS Constant   \n",
       "1  Mobility Metered Taxis: Monthly     Commercial     IFRS Constant   \n",
       "2  Mobility Metered Taxis: Monthly     Commercial     IFRS Constant   \n",
       "3  Mobility Metered Taxis: Monthly     Commercial     IFRS Constant   \n",
       "4  Mobility Metered Taxis: Monthly     Commercial     IFRS Constant   \n",
       "\n",
       "   TotalPremium TotalClaims  \n",
       "0     21.929825         0.0  \n",
       "1     21.929825         0.0  \n",
       "2      0.000000         0.0  \n",
       "3    512.848070         0.0  \n",
       "4      0.000000         0.0  \n",
       "\n",
       "[5 rows x 52 columns]"
      ]
     },
     "execution_count": 15,
     "metadata": {},
     "output_type": "execute_result"
    }
   ],
   "source": [
    "# Load the raw dataset using pipe delimiter\n",
    "data = pd.read_csv(\"../data/raw/MachineLearningRating_v3.txt\", sep=\"|\", low_memory=False)\n",
    "data.head()"
   ]
  },
  {
   "cell_type": "code",
   "execution_count": 21,
   "id": "0f379dd2-f296-41ad-b341-48922d7beaca",
   "metadata": {},
   "outputs": [],
   "source": [
    "# Create a LossRatio column\n",
    "# This column is essential for comparing claim behavior across groups\n",
    "# Adding a small value (e.g., 1e-6) to avoid division by zero if TotalPremium has zeros\n",
    "data[\"LossRatio\"] = data[\"TotalClaims\"] / (data[\"TotalPremium\"] + 1e-6)"
   ]
  },
  {
   "cell_type": "code",
   "execution_count": 22,
   "id": "513856ef-4a63-477f-9a1e-1266ffd49d57",
   "metadata": {},
   "outputs": [],
   "source": [
    "# Create HasClaim: a binary indicator if the policyholder had any claims\n",
    "data[\"HasClaim\"] = data[\"TotalClaims\"] > 0"
   ]
  },
  {
   "cell_type": "markdown",
   "id": "2a0e62c6-5232-40e0-ac40-4379a86cbf26",
   "metadata": {},
   "source": [
    "# Hypothesis Test"
   ]
  },
  {
   "cell_type": "markdown",
   "id": "581fcf53-e7c4-4317-b291-6baa38f2dfd2",
   "metadata": {},
   "source": [
    "## Hypothesis 1: Risk Differences Across Provinces\n",
    "If p<0.05, we reject meaning there are statistically significant differences in risk across provinces. \n",
    "This would justify provincial adjustment of premiums.\n",
    "\"\"\""
   ]
  },
  {
   "cell_type": "code",
   "execution_count": 32,
   "id": "c2ba0b11-d790-4b8c-9ed0-c9df2bbc1db5",
   "metadata": {},
   "outputs": [
    {
     "name": "stdout",
     "output_type": "stream",
     "text": [
      "Chi-squared test for province vs claims: p-value = 0.00000\n"
     ]
    },
    {
     "data": {
      "text/plain": [
       "'\\nInterpretation: If , we reject , meaning there are statistically significant differences in risk across provinces. \\nThis would justify provincial adjustment of premiums.\\n'"
      ]
     },
     "execution_count": 32,
     "metadata": {},
     "output_type": "execute_result"
    }
   ],
   "source": [
    "# We compare claim frequencies across provinces.\n",
    "province_claims = pd.crosstab(data[\"Province\"], data[\"HasClaim\"])\n",
    "chi2, p, dof, _ = stats.chi2_contingency(province_claims)\n",
    "print(f\"Chi-squared test for province vs claims: p-value = {p:.5f}\")\n"
   ]
  },
  {
   "cell_type": "markdown",
   "id": "ba196038-cd80-479d-b2a9-9613d5d37fc7",
   "metadata": {},
   "source": [
    "# Hypothesis 2: Risk Differences Between ZIP Codes\n",
    "If p<0.05, there are significant risk differences between these ZIP codes, possibly warranting micro-segmentation in premium pricing."
   ]
  },
  {
   "cell_type": "code",
   "execution_count": 33,
   "id": "3f7df396-93aa-4c66-9017-8f789f14d1ba",
   "metadata": {},
   "outputs": [],
   "source": [
    "# Due to the granularity of ZIP codes, we select the top two with the most observations.\n",
    "zip_counts = data[\"PostalCode\"].value_counts()\n",
    "top_zips = zip_counts.nlargest(2).index.tolist()\n",
    "zip_sample = data[data[\"PostalCode\"].isin(top_zips)]"
   ]
  },
  {
   "cell_type": "code",
   "execution_count": 34,
   "id": "0fa40d45-3f8f-455e-8e5a-c0627c8e85f8",
   "metadata": {},
   "outputs": [
    {
     "name": "stdout",
     "output_type": "stream",
     "text": [
      "Chi-squared test for ZIP vs claims: p-value = 0.05788\n"
     ]
    }
   ],
   "source": [
    "# Compare claim frequency\n",
    "zip_contingency = pd.crosstab(zip_sample[\"PostalCode\"], zip_sample[\"HasClaim\"])\n",
    "chi2_zip, p_zip, _, _ = stats.chi2_contingency(zip_contingency)\n",
    "print(f\"Chi-squared test for ZIP vs claims: p-value = {p_zip:.5f}\")"
   ]
  },
  {
   "cell_type": "markdown",
   "id": "2b7795be-94aa-45e9-9f5f-1a896cd076c8",
   "metadata": {},
   "source": [
    "# Hypothesis 3: Margin Differences Between ZIP Codes\n",
    "Rejecting the null hypothesis here implies profitability differs significantly between ZIP codes, suggesting a review of pricing strategy by geography."
   ]
  },
  {
   "cell_type": "code",
   "execution_count": 36,
   "id": "c836cca8-e23e-4e79-8872-7aeadea5e6d1",
   "metadata": {},
   "outputs": [
    {
     "name": "stdout",
     "output_type": "stream",
     "text": [
      "T-test for margin differences between ZIPs: p-value = 0.24446\n"
     ]
    }
   ],
   "source": [
    "# Filter the top ZIP codes and compute margin\n",
    "zip_sample.loc[:, \"Margin\"] = zip_sample[\"TotalPremium\"] - zip_sample[\"TotalClaims\"]\n",
    "zip1, zip2 = top_zips\n",
    "\n",
    "margin1 = zip_sample[zip_sample[\"PostalCode\"] == zip1][\"Margin\"].dropna()\n",
    "margin2 = zip_sample[zip_sample[\"PostalCode\"] == zip2][\"Margin\"].dropna()\n",
    "\n",
    "stat, p_margin = stats.ttest_ind(margin1, margin2, equal_var=False)\n",
    "print(f\"T-test for margin differences between ZIPs: p-value = {p_margin:.5f}\")"
   ]
  },
  {
   "cell_type": "markdown",
   "id": "cc834d0c-e11d-40b5-8f4b-d7fdb616ebca",
   "metadata": {},
   "source": [
    "# Hypothesis 4: Gender-Based Risk Differences\n",
    "If we reject , it implies male and female customers have statistically different risk profiles, which could support gender-specific pricing or marketing strategies."
   ]
  },
  {
   "cell_type": "code",
   "execution_count": null,
   "id": "0dd1b4e7-bc16-447c-b48b-8263100d3f06",
   "metadata": {},
   "outputs": [],
   "source": [
    "# Compare claim frequency between genders\n",
    "gender_ct = pd.crosstab(data[\"Gender\"], data[\"HasClaim\"])\n",
    "chi2_gender, p_gender, _, _ = stats.chi2_contingency(gender_ct)\n",
    "print(f\"Chi-squared test for gender vs claims: p-value = {p_gender:.5f}\")"
   ]
  },
  {
   "cell_type": "code",
   "execution_count": null,
   "id": "7fade697-9c47-4900-ad02-d281cd55b325",
   "metadata": {},
   "outputs": [],
   "source": [
    "Additional statistics"
   ]
  },
  {
   "cell_type": "code",
   "execution_count": 37,
   "id": "2200cb15-fbf9-48d7-aca1-a1b7220badf8",
   "metadata": {},
   "outputs": [],
   "source": [
    "# Cramér's V for chi-squared test\n",
    "def cramers_v(confusion_matrix):\n",
    "    chi2 = stats.chi2_contingency(confusion_matrix)[0]\n",
    "    n = confusion_matrix.sum().sum()\n",
    "    phi2 = chi2/n\n",
    "    r, k = confusion_matrix.shape\n",
    "    return np.sqrt(phi2 / min(k - 1, r - 1))\n"
   ]
  },
  {
   "cell_type": "code",
   "execution_count": 38,
   "id": "924bba85-8df8-441d-9de7-43503ece8934",
   "metadata": {},
   "outputs": [
    {
     "name": "stdout",
     "output_type": "stream",
     "text": [
      "Province\n",
      "Free State       1.098251e+07\n",
      "KwaZulu-Natal    4.564885e+06\n",
      "Gauteng          3.587203e+06\n",
      "North West       2.278835e+06\n",
      "Limpopo          9.898431e+05\n",
      "Western Cape     8.636677e+05\n",
      "Eastern Cape     3.335613e+05\n",
      "Mpumalanga       1.684981e+05\n",
      "Northern Cape    1.163881e-01\n",
      "Name: LossRatio, dtype: float64\n"
     ]
    }
   ],
   "source": [
    "# Loss ratio by province\n",
    "province_risk = data.groupby(\"Province\")[\"LossRatio\"].mean().sort_values(ascending=False)\n",
    "print(province_risk)"
   ]
  },
  {
   "cell_type": "code",
   "execution_count": 40,
   "id": "fb5d8856-5b3d-4e2d-9892-526e1e003398",
   "metadata": {},
   "outputs": [
    {
     "data": {
      "image/png": "[encoded data removed]",
      "text/plain": [
       "<Figure size 640x480 with 1 Axes>"
      ]
     },
     "metadata": {},
     "output_type": "display_data"
    }
   ],
   "source": [
    "sns.barplot(data=data, x=\"Province\", y=\"LossRatio\", order=province_risk.index)\n",
    "plt.show()"
   ]
  }
 ],
 "metadata": {
  "kernelspec": {
   "display_name": "Python 3 (ipykernel)",
   "language": "python",
   "name": "python3"
  },
  "language_info": {
   "codemirror_mode": {
    "name": "ipython",
    "version": 3
   },
   "file_extension": ".py",
   "mimetype": "text/x-python",
   "name": "python",
   "nbconvert_exporter": "python",
   "pygments_lexer": "ipython3",
   "version": "3.11.9"
  }
 },
 "nbformat": 4,
 "nbformat_minor": 5
}

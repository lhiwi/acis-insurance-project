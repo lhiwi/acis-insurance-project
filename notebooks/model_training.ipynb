{
 "cells": [
  {
   "cell_type": "code",
   "execution_count": 144,
   "id": "266327db-172e-4239-9438-1a5860ca69de",
   "metadata": {},
   "outputs": [],
   "source": [
    "# Import important libraries\n",
    "import pandas as pd\n",
    "import numpy as np\n",
    "from sklearn.model_selection import train_test_split\n",
    "from sklearn.preprocessing import OneHotEncoder\n",
    "from sklearn.compose import ColumnTransformer\n",
    "from sklearn.pipeline import Pipeline\n",
    "from sklearn.impute import SimpleImputer\n",
    "from xgboost import XGBClassifier, XGBRegressor\n",
    "from imblearn.over_sampling import SMOTE\n",
    "from sklearn.metrics import classification_report, mean_squared_error, r2_score\n",
    "import shap\n",
    "from scipy import sparse\n",
    "import joblib"
   ]
  },
  {
   "cell_type": "markdown",
   "id": "fe9cd58a-81f5-4d88-90d8-f7f0c6383d4a",
   "metadata": {},
   "source": [
    "## Load and prepare data"
   ]
  },
  {
   "cell_type": "code",
   "execution_count": 126,
   "id": "8aca3f5d-29d1-4585-8f5b-2013c46586de",
   "metadata": {},
   "outputs": [],
   "source": [
    "# Load data\n",
    "data = pd.read_csv(\"../data/raw/MachineLearningRating_v3.txt\", sep=\"|\", low_memory=False)"
   ]
  },
  {
   "cell_type": "code",
   "execution_count": 127,
   "id": "b14dacf6-53ed-4403-939d-87f9c0248113",
   "metadata": {},
   "outputs": [],
   "source": [
    "# prepare the data\n",
    "# Create target variables\n",
    "data[\"HasClaim\"] = (data[\"TotalClaims\"] > 0).astype(int)\n",
    "\n",
    "#  Drop unnecessary columns\n",
    "drop_cols = ['UnderwrittenCoverID', 'PolicyID', 'Bank', 'Country', 'NumberOfVehiclesInFleet']\n",
    "data = data.drop(columns=drop_cols, errors='ignore')\n",
    "\n",
    "# Convert datetime columns\n",
    "for date_col in [\"TransactionMonth\", \"VehicleIntroDate\"]:\n",
    "    if date_col in data.columns:\n",
    "        data[date_col] = pd.to_datetime(data[date_col], errors=\"coerce\", format='mixed')\n",
    "        data[date_col] = (data[date_col] - pd.Timestamp(\"1970-01-01\")) // pd.Timedelta('1s')\n",
    "\n",
    "# Clean data\n",
    "data.replace([np.inf, -np.inf], np.nan, inplace=True)"
   ]
  },
  {
   "cell_type": "markdown",
   "id": "cadde60e-19a7-41a0-b9c9-a0e35966f554",
   "metadata": {},
   "source": [
    "## DEFINE FEATURES AND TARGETS"
   ]
  },
  {
   "cell_type": "code",
   "execution_count": 128,
   "id": "5ae6c44b-f52f-4a9c-a7af-395dd55daf20",
   "metadata": {},
   "outputs": [],
   "source": [
    "## Features matrix (exclude target variables)\n",
    "X = data.drop(columns=[\"TotalClaims\", \"HasClaim\"])\n",
    "# Target for classification model (claim occurrence)\n",
    "y_class = data[\"HasClaim\"]\n",
    "# Target for regression model (claim amount)\n",
    "y_reg = data[\"TotalClaims\"]"
   ]
  },
  {
   "cell_type": "markdown",
   "id": "b03a91da-37a6-4b52-ac96-644fc2cd3874",
   "metadata": {},
   "source": [
    "## IDENTIFY FEATURE TYPES"
   ]
  },
  {
   "cell_type": "code",
   "execution_count": 129,
   "id": "16b40d46-3d99-43c5-a3ea-7273a82de69f",
   "metadata": {},
   "outputs": [
    {
     "name": "stdout",
     "output_type": "stream",
     "text": [
      "Categorical columns: ['Citizenship', 'LegalType', 'Title', 'Language', 'AccountType', 'MaritalStatus', 'Gender', 'Province', 'MainCrestaZone', 'SubCrestaZone', 'ItemType', 'VehicleType', 'make', 'Model', 'bodytype', 'AlarmImmobiliser', 'TrackingDevice', 'CapitalOutstanding', 'NewVehicle', 'WrittenOff', 'Rebuilt', 'Converted', 'CrossBorder', 'TermFrequency', 'ExcessSelected', 'CoverCategory', 'CoverType', 'CoverGroup', 'Section', 'Product', 'StatutoryClass', 'StatutoryRiskType']\n",
      "Numerical columns: ['TransactionMonth', 'PostalCode', 'mmcode', 'RegistrationYear', 'Cylinders', 'cubiccapacity', 'kilowatts', 'NumberOfDoors', 'VehicleIntroDate', 'CustomValueEstimate', 'SumInsured', 'CalculatedPremiumPerTerm', 'TotalPremium']\n"
     ]
    }
   ],
   "source": [
    "# Get categorical and numerical columns\n",
    "categorical_cols = X.select_dtypes(include=['object']).columns\n",
    "numerical_cols = X.select_dtypes(include=['int64', 'float64']).columns\n",
    "\n",
    "# Filter out completely missing columns\n",
    "categorical_cols = [col for col in categorical_cols if not data[col].isnull().all()]\n",
    "numerical_cols = [col for col in numerical_cols if not data[col].isnull().all()]\n",
    "\n",
    "print(f\"Categorical columns: {categorical_cols}\")\n",
    "print(f\"Numerical columns: {numerical_cols}\")"
   ]
  },
  {
   "cell_type": "markdown",
   "id": "5f3fcebe-1797-4e92-9fe3-e25e42e1dca8",
   "metadata": {},
   "source": [
    "## CREATE PREPROCESSING PIPELINE"
   ]
  },
  {
   "cell_type": "code",
   "execution_count": 130,
   "id": "96f5b238-659b-44e1-a38c-e03e690de802",
   "metadata": {},
   "outputs": [],
   "source": [
    "# ColumnTransformer handles different preprocessing for different feature types\n",
    "preprocessor = ColumnTransformer(\n",
    "    transformers=[\n",
    "        # Numerical transformer\n",
    "        ('num', Pipeline(steps=[\n",
    "            ('imputer', SimpleImputer(strategy='median'))\n",
    "        ]), numerical_cols),\n",
    "        \n",
    "        # Categorical transformer\n",
    "        ('cat', Pipeline(steps=[\n",
    "            ('imputer', SimpleImputer(strategy='most_frequent')),\n",
    "            ('encoder', OneHotEncoder(handle_unknown='ignore', sparse_output=True))\n",
    "        ]), categorical_cols)\n",
    "    ],\n",
    "    remainder='drop',\n",
    "    sparse_threshold=1.0  # Always return sparse matrix\n",
    ")\n"
   ]
  },
  {
   "cell_type": "markdown",
   "id": "4b14b4e5-321c-4d21-9ff7-cf50ff8bdbf8",
   "metadata": {},
   "source": [
    "## CLASSIFICATION DATA SPLIT AND PREPROCESSING"
   ]
  },
  {
   "cell_type": "code",
   "execution_count": 131,
   "id": "7201fe1e-35c3-43e7-897a-26999e3da7f9",
   "metadata": {},
   "outputs": [
    {
     "name": "stdout",
     "output_type": "stream",
     "text": [
      "Preprocessing classification data...\n"
     ]
    }
   ],
   "source": [
    "# Split data into training and test sets for classification\n",
    "X_train_c, X_test_c, y_train_c, y_test_c = train_test_split(\n",
    "    X, y_class, test_size=0.2, random_state=42\n",
    ")\n",
    "#  Preprocess classification data (keep sparse)\n",
    "print(\"Preprocessing classification data...\")\n",
    "X_train_c_pre = preprocessor.fit_transform(X_train_c)\n",
    "X_test_c_pre = preprocessor.transform(X_test_c)"
   ]
  },
  {
   "cell_type": "markdown",
   "id": "d508c87c-e18a-40a4-bcfb-244e1ef2a58b",
   "metadata": {},
   "source": [
    "# REGRESSION DATA PREPARATION"
   ]
  },
  {
   "cell_type": "code",
   "execution_count": 132,
   "id": "e54712ed-f638-4908-a06f-48ab9cffff74",
   "metadata": {},
   "outputs": [
    {
     "name": "stdout",
     "output_type": "stream",
     "text": [
      "Regression data size: 2788 claims\n",
      "Preprocessing regression data...\n"
     ]
    }
   ],
   "source": [
    "# Filter only records with claims for regression modeling\n",
    "claimed_data = data[data[\"HasClaim\"] == 1]\n",
    "X_reg = claimed_data.drop(columns=[\"TotalClaims\", \"HasClaim\"])\n",
    "y_reg = claimed_data[\"TotalClaims\"]\n",
    "\n",
    "print(f\"Regression data size: {X_reg.shape[0]} claims\")\n",
    "\n",
    "X_train_r, X_test_r, y_train_r, y_test_r = train_test_split(\n",
    "    X_reg, y_reg, test_size=0.2, random_state=42\n",
    ")\n",
    "# Preprocess regression data (keep sparse)\n",
    "print(\"Preprocessing regression data...\")\n",
    "X_train_r_pre = preprocessor.transform(X_train_r)\n",
    "X_test_r_pre = preprocessor.transform(X_test_r)"
   ]
  },
  {
   "cell_type": "markdown",
   "id": "f433b566-51a9-4d5f-b1e7-f0189ee46a1f",
   "metadata": {},
   "source": [
    "# Model 1: Claim Occurrence (Classification)"
   ]
  },
  {
   "cell_type": "code",
   "execution_count": 133,
   "id": "421875a4-5199-46c2-9ee1-d68cdd3463cb",
   "metadata": {},
   "outputs": [
    {
     "name": "stdout",
     "output_type": "stream",
     "text": [
      "\n",
      "Training Claim Occurrence Model...\n",
      "\n",
      "Classification Report:\n",
      "              precision    recall  f1-score   support\n",
      "\n",
      "           0       1.00      1.00      1.00    199439\n",
      "           1       0.04      0.06      0.05       581\n",
      "\n",
      "    accuracy                           0.99    200020\n",
      "   macro avg       0.52      0.53      0.52    200020\n",
      "weighted avg       0.99      0.99      0.99    200020\n",
      "\n",
      "\n",
      "Adjusted Classification Report (threshold=0.3):\n",
      "              precision    recall  f1-score   support\n",
      "\n",
      "           0       1.00      0.98      0.99    199439\n",
      "           1       0.03      0.18      0.05       581\n",
      "\n",
      "    accuracy                           0.98    200020\n",
      "   macro avg       0.51      0.58      0.52    200020\n",
      "weighted avg       0.99      0.98      0.99    200020\n",
      "\n"
     ]
    }
   ],
   "source": [
    "print(\"\\nTraining Claim Occurrence Model...\")\n",
    "\n",
    "# Balance the training set using SMOTE (handle sparse input)\n",
    "smote = SMOTE(random_state=42)\n",
    "X_train_c_bal, y_train_c_bal = smote.fit_resample(X_train_c_pre, y_train_c)\n",
    "\n",
    "xgb_clf = XGBClassifier(\n",
    "    eval_metric='logloss',\n",
    "    scale_pos_weight=len(y_train_c_bal[y_train_c_bal==0])/len(y_train_c_bal[y_train_c_bal==1]),\n",
    "    tree_method='hist',  # More memory efficient\n",
    "    random_state=42\n",
    ")\n",
    "xgb_clf.fit(X_train_c_bal, y_train_c_bal)\n",
    "\n",
    "# Predictions and Evaluation\n",
    "y_pred_c = xgb_clf.predict(X_test_c_pre)\n",
    "print(\"\\nClassification Report:\")\n",
    "print(classification_report(y_test_c, y_pred_c, zero_division=0))\n",
    "\n",
    "# Handle class imbalance by adjusting decision threshold\n",
    "y_probs = xgb_clf.predict_proba(X_test_c_pre)[:, 1]\n",
    "y_pred_adj = (y_probs > 0.3).astype(int)  # Lower threshold for positive class\n",
    "print(\"\\nAdjusted Classification Report (threshold=0.3):\")\n",
    "print(classification_report(y_test_c, y_pred_adj, zero_division=0))"
   ]
  },
  {
   "cell_type": "markdown",
   "id": "d8a3c1b9-8557-4c0a-94a6-50416a172c1b",
   "metadata": {},
   "source": [
    "# Model 2: Claim Severity (Regression)"
   ]
  },
  {
   "cell_type": "code",
   "execution_count": 134,
   "id": "094c1d80-e4a9-485a-bbf5-6cfef27e7163",
   "metadata": {},
   "outputs": [
    {
     "name": "stdout",
     "output_type": "stream",
     "text": [
      "\n",
      "Training Claim Severity Model...\n",
      "\n",
      "RMSE for claim severity: 37878.23\n",
      "R-squared: 0.11\n"
     ]
    }
   ],
   "source": [
    "print(\"\\nTraining Claim Severity Model...\")\n",
    "xgb_reg = XGBRegressor(\n",
    "    random_state=42,\n",
    "    tree_method='hist'  # More memory efficient\n",
    ")\n",
    "xgb_reg.fit(X_train_r_pre, y_train_r)\n",
    "\n",
    "# Predictions and Evaluation\n",
    "y_pred_r = xgb_reg.predict(X_test_r_pre)\n",
    "rmse = np.sqrt(mean_squared_error(y_test_r, y_pred_r))\n",
    "r2 = r2_score(y_test_r, y_pred_r)\n",
    "print(f\"\\nRMSE for claim severity: {rmse:.2f}\")\n",
    "print(f\"R-squared: {r2:.2f}\")"
   ]
  },
  {
   "cell_type": "markdown",
   "id": "0bdd023d-9f93-4bf5-ae40-5cf09a25a10e",
   "metadata": {},
   "source": [
    "## Feature Importance with SHAP"
   ]
  },
  {
   "cell_type": "code",
   "execution_count": 135,
   "id": "71e17670-b62f-4c74-87ad-cb3c85835edb",
   "metadata": {},
   "outputs": [
    {
     "name": "stdout",
     "output_type": "stream",
     "text": [
      "\n",
      "Generating SHAP explanations...\n",
      "\n",
      "SHAP for Classification Model:\n"
     ]
    },
    {
     "data": {
      "image/png": "[encoded data removed]",
      "text/plain": [
       "<Figure size 800x550 with 1 Axes>"
      ]
     },
     "metadata": {},
     "output_type": "display_data"
    }
   ],
   "source": [
    "print(\"\\nGenerating SHAP explanations...\")\n",
    "\n",
    "# For classification model\n",
    "print(\"\\nSHAP for Classification Model:\")\n",
    "# Use smaller sample for SHAP to save memory\n",
    "sample_idx = np.random.choice(X_test_c_pre.shape[0], 1000, replace=False)\n",
    "X_test_c_sample = X_test_c_pre[sample_idx].toarray() if sparse.issparse(X_test_c_pre) else X_test_c_pre[sample_idx]\n",
    "\n",
    "explainer_c = shap.TreeExplainer(xgb_clf)\n",
    "shap_values_c = explainer_c.shap_values(X_test_c_sample)\n",
    "shap.summary_plot(shap_values_c, X_test_c_sample, plot_type=\"bar\", max_display=10)"
   ]
  },
  {
   "cell_type": "code",
   "execution_count": 137,
   "id": "fdc9e261-3a6e-4bee-89b1-783d31c5bbd8",
   "metadata": {},
   "outputs": [
    {
     "name": "stdout",
     "output_type": "stream",
     "text": [
      "\n",
      "SHAP for Regression Model:\n"
     ]
    },
    {
     "data": {
      "image/png": "[encoded data removed]",
      "text/plain": [
       "<Figure size 800x550 with 1 Axes>"
      ]
     },
     "metadata": {},
     "output_type": "display_data"
    }
   ],
   "source": [
    "# For regression model\n",
    "print(\"\\nSHAP for Regression Model:\")\n",
    "# Use smaller sample for SHAP to save memory\n",
    "sample_idx_r = np.random.choice(X_test_r_pre.shape[0], min(500, X_test_r_pre.shape[0]), replace=False)\n",
    "X_test_r_sample = X_test_r_pre[sample_idx_r].toarray() if sparse.issparse(X_test_r_pre) else X_test_r_pre[sample_idx_r]\n",
    "\n",
    "explainer_r = shap.TreeExplainer(xgb_reg)\n",
    "shap_values_r = explainer_r.shap_values(X_test_r_sample)\n",
    "shap.summary_plot(shap_values_r, X_test_r_sample, plot_type=\"bar\", max_display=10)\n"
   ]
  },
  {
   "cell_type": "markdown",
   "id": "f84bb99b-41c9-454c-bd6e-e5371d3c3ab8",
   "metadata": {},
   "source": [
    "# SAVE MODELS AND PREPROCESSOR"
   ]
  },
  {
   "cell_type": "code",
   "execution_count": 142,
   "id": "b3b8299b-93ea-44b9-93b3-cbf23bfc86e4",
   "metadata": {},
   "outputs": [],
   "source": [
    "import os \n",
    "# Create directory for models if it doesn't exist\n",
    "os.makedirs(\"../models\", exist_ok=True)"
   ]
  },
  {
   "cell_type": "code",
   "execution_count": 145,
   "id": "7b813f8b-f27d-4495-9eb1-1c80d6253e9d",
   "metadata": {},
   "outputs": [
    {
     "name": "stdout",
     "output_type": "stream",
     "text": [
      "\n",
      "Saved claim occurrence model to models/claim_occurrence_model.pkl\n"
     ]
    }
   ],
   "source": [
    "# Save classification model\n",
    "joblib.dump(xgb_clf, \"../models/claim_occurrence_model.pkl\")\n",
    "print(\"\\nSaved claim occurrence model to models/claim_occurrence_model.pkl\")"
   ]
  },
  {
   "cell_type": "code",
   "execution_count": 146,
   "id": "c5c308e6-ad95-4c9c-9f10-dbc3de471a2a",
   "metadata": {},
   "outputs": [
    {
     "name": "stdout",
     "output_type": "stream",
     "text": [
      "Saved claim severity model to models/claim_severity_model.pkl\n"
     ]
    }
   ],
   "source": [
    "# Save regression model\n",
    "joblib.dump(xgb_reg, \"../models/claim_severity_model.pkl\")\n",
    "print(\"Saved claim severity model to models/claim_severity_model.pkl\")"
   ]
  },
  {
   "cell_type": "code",
   "execution_count": 147,
   "id": "2a499fe8-94ae-4b91-99e9-4896a9a2ca52",
   "metadata": {},
   "outputs": [
    {
     "name": "stdout",
     "output_type": "stream",
     "text": [
      "Saved preprocessor to models/preprocessor.pkl\n"
     ]
    }
   ],
   "source": [
    "# Save preprocessor for future use\n",
    "joblib.dump(preprocessor, \"../models/preprocessor.pkl\")\n",
    "print(\"Saved preprocessor to models/preprocessor.pkl\")"
   ]
  }
 ],
 "metadata": {
  "kernelspec": {
   "display_name": "Python 3 (ipykernel)",
   "language": "python",
   "name": "python3"
  },
  "language_info": {
   "codemirror_mode": {
    "name": "ipython",
    "version": 3
   },
   "file_extension": ".py",
   "mimetype": "text/x-python",
   "name": "python",
   "nbconvert_exporter": "python",
   "pygments_lexer": "ipython3",
   "version": "3.11.9"
  }
 },
 "nbformat": 4,
 "nbformat_minor": 5
}
